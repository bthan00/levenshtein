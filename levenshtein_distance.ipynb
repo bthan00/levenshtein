{
 "cells": [
  {
   "cell_type": "code",
   "execution_count": 3,
   "metadata": {},
   "outputs": [],
   "source": [
    "import Levenshtein\n",
    "import pandas as pd\n"
   ]
  },
  {
   "cell_type": "code",
   "execution_count": 1,
   "metadata": {},
   "outputs": [],
   "source": [
    "def find_top_uuid_matches(df1, df2):\n",
    "    \"\"\"Iterate through all unmapped properties and then calculate each LD against mapped properties\"\"\"\n",
    "    results_df = pd.DataFrame(columns=['Concat', 'UUID1', 'Score1', 'UUID2', 'Score2', 'UUID3', 'Score3'])\n",
    "\n",
    "    for index1, row1 in df2.iterrows():\n",
    "        concat_str1 = row1['Concat']\n",
    "        distances = {}\n",
    "\n",
    "        for _, row2 in df1.iterrows():  \n",
    "            concat_str2 = row2['Concat']\n",
    "            distance = Levenshtein.distance(concat_str1, concat_str2)\n",
    "            # set threshold to LD < 50\n",
    "            if distance < 50:\n",
    "                distances[row2['UUID']] = distance \n",
    "        # grab best 3 scores\n",
    "        smallest_items = sorted(distances.items(), key=lambda x: x[1])[:3]  \n",
    "        row_data = [concat_str1]\n",
    "        \n",
    "        # add to new data frame\n",
    "        for i, (uuid, score) in enumerate(smallest_items):\n",
    "            row_data.extend([uuid, score])\n",
    "\n",
    "        row_data.extend(['0'] * (7 - len(row_data))) \n",
    "\n",
    "        results_df.loc[index1] = row_data\n",
    "\n",
    "    return results_df\n"
   ]
  },
  {
   "cell_type": "code",
   "execution_count": 2,
   "metadata": {},
   "outputs": [
    {
     "ename": "NameError",
     "evalue": "name 'pd' is not defined",
     "output_type": "error",
     "traceback": [
      "\u001b[0;31m---------------------------------------------------------------------------\u001b[0m",
      "\u001b[0;31mNameError\u001b[0m                                 Traceback (most recent call last)",
      "Cell \u001b[0;32mIn[2], line 1\u001b[0m\n\u001b[0;32m----> 1\u001b[0m df1 \u001b[39m=\u001b[39m pd\u001b[39m.\u001b[39mread_csv(\u001b[39m'\u001b[39m\u001b[39moutput/orig/School_Board.csv\u001b[39m\u001b[39m'\u001b[39m)\n\u001b[1;32m      2\u001b[0m df2 \u001b[39m=\u001b[39m pd\u001b[39m.\u001b[39mread_csv(\u001b[39m'\u001b[39m\u001b[39moutput/unmapped/2019_School_Board_unmapped.csv\u001b[39m\u001b[39m'\u001b[39m)\n\u001b[1;32m      3\u001b[0m find_top_uuid_matches(df1, df2)\u001b[39m.\u001b[39mto_csv(\u001b[39m'\u001b[39m\u001b[39moutput/calculated/School_Board.csv\u001b[39m\u001b[39m'\u001b[39m, index\u001b[39m=\u001b[39m\u001b[39mFalse\u001b[39;00m)\n",
      "\u001b[0;31mNameError\u001b[0m: name 'pd' is not defined"
     ]
    }
   ],
   "source": [
    "\n",
    "df1 = pd.read_csv('output/orig/School_Board.csv')\n",
    "df2 = pd.read_csv('output/unmapped/2019_School_Board_unmapped.csv')\n",
    "find_top_uuid_matches(df1, df2).to_csv('output/calculated/School_Board.csv', index=False)\n"
   ]
  }
 ],
 "metadata": {
  "kernelspec": {
   "display_name": "Python 3",
   "language": "python",
   "name": "python3"
  },
  "language_info": {
   "codemirror_mode": {
    "name": "ipython",
    "version": 3
   },
   "file_extension": ".py",
   "mimetype": "text/x-python",
   "name": "python",
   "nbconvert_exporter": "python",
   "pygments_lexer": "ipython3",
   "version": "3.9.6"
  },
  "orig_nbformat": 4
 },
 "nbformat": 4,
 "nbformat_minor": 2
}
